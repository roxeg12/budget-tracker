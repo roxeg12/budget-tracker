{
 "cells": [
  {
   "cell_type": "code",
   "execution_count": null,
   "metadata": {},
   "outputs": [],
   "source": [
    "import tkinter as tk\n",
    "from tkinter import messagebox\n",
    "import pandas as pd\n",
    "\n",
    "\n",
    "\"\"\"\n",
    "Checks for an existing data frame, and if one does not exist, creates it\n",
    "\"\"\"\n",
    "try:\n",
    "    df = pd.read_csv('./records.csv')\n",
    "except Exception as e:\n",
    "    data = {\n",
    "        \"Date\" : [],\n",
    "        \"Description\" : [],\n",
    "        \"Amount\" : [],\n",
    "        \"Type\" : [] \n",
    "    }\n",
    "\n",
    "    df = pd.DataFrame(data)\n",
    "\n",
    "class BudgetTrackerApp:\n",
    "    def __init___(self, root):\n",
    "        self.root = root\n",
    "        self.root.title(\"Budget Tracker\")\n"
   ]
  },
  {
   "cell_type": "code",
   "execution_count": null,
   "metadata": {},
   "outputs": [],
   "source": [
    "root = tk.Tk()\n",
    "app = BudgetTrackerApp(root)\n",
    "root.mainloop()"
   ]
  }
 ],
 "metadata": {
  "language_info": {
   "name": "python"
  }
 },
 "nbformat": 4,
 "nbformat_minor": 2
}
